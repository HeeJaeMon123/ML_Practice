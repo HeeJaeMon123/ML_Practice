{
 "cells": [
  {
   "cell_type": "code",
   "execution_count": 12,
   "metadata": {
    "ExecuteTime": {
     "end_time": "2021-07-16T05:24:18.160310Z",
     "start_time": "2021-07-16T05:24:18.147998Z"
    }
   },
   "outputs": [],
   "source": [
    "from IPython.display import display\n",
    "import numpy as np\n",
    "import matplotlib.pyplot as plt\n",
    "import pandas as pd\n",
    "import mglearn\n",
    "from sklearn.datasets import load_breast_cancer\n",
    "from sklearn.datasets import load_boston\n",
    "from sklearn.model_selection import train_test_split\n",
    "from sklearn.datasets import make_blobs\n",
    "from sklearn.datasets import make_moons\n",
    "from sklearn.datasets import make_circles\n",
    "from sklearn.datasets import load_iris"
   ]
  },
  {
   "cell_type": "code",
   "execution_count": 4,
   "metadata": {
    "ExecuteTime": {
     "end_time": "2021-07-16T05:12:13.100220Z",
     "start_time": "2021-07-16T05:12:12.692119Z"
    }
   },
   "outputs": [
    {
     "data": {
      "text/plain": [
       "GradientBoostingClassifier(random_state=0)"
      ]
     },
     "execution_count": 4,
     "metadata": {},
     "output_type": "execute_result"
    }
   ],
   "source": [
    "from sklearn.ensemble import GradientBoostingClassifier\n",
    "X,y = make_circles(noise=0.25, factor=0.5, random_state=1)\n",
    "\n",
    "y_named = np.array(['blue','red'])[y]\n",
    "\n",
    "X_train, X_test, y_train_named, y_test_named = train_test_split(X,y_named,random_state=0)\n",
    "\n",
    "gbrt = GradientBoostingClassifier(random_state=0)\n",
    "gbrt.fit(X_train, y_train_named)"
   ]
  },
  {
   "cell_type": "code",
   "execution_count": 5,
   "metadata": {
    "ExecuteTime": {
     "end_time": "2021-07-16T05:12:13.130221Z",
     "start_time": "2021-07-16T05:12:13.108381Z"
    }
   },
   "outputs": [
    {
     "data": {
      "text/plain": [
       "numpy.ndarray"
      ]
     },
     "execution_count": 5,
     "metadata": {},
     "output_type": "execute_result"
    }
   ],
   "source": [
    "type(y)"
   ]
  },
  {
   "cell_type": "code",
   "execution_count": 6,
   "metadata": {
    "ExecuteTime": {
     "end_time": "2021-07-16T05:12:13.161224Z",
     "start_time": "2021-07-16T05:12:13.138217Z"
    }
   },
   "outputs": [
    {
     "data": {
      "text/plain": [
       "array(['red', 'red', 'blue', 'red', 'red', 'blue', 'blue', 'red', 'red',\n",
       "       'red', 'red', 'blue', 'red', 'red', 'red', 'blue', 'blue', 'blue',\n",
       "       'red', 'blue', 'blue', 'red', 'red', 'red', 'blue', 'blue', 'red',\n",
       "       'blue', 'blue', 'blue', 'red', 'red', 'red', 'red', 'red', 'blue',\n",
       "       'blue', 'red', 'blue', 'blue', 'red', 'red', 'red', 'blue', 'red',\n",
       "       'blue', 'blue', 'red', 'blue', 'red', 'blue', 'red', 'blue',\n",
       "       'blue', 'red', 'blue', 'blue', 'red', 'blue', 'red', 'blue', 'red',\n",
       "       'red', 'blue', 'blue', 'red', 'blue', 'red', 'blue', 'red', 'red',\n",
       "       'blue', 'red', 'red', 'blue', 'red', 'blue', 'red', 'red', 'blue',\n",
       "       'blue', 'blue', 'blue', 'blue', 'blue', 'red', 'blue', 'blue',\n",
       "       'red', 'red', 'blue', 'blue', 'red', 'red', 'blue', 'red', 'blue',\n",
       "       'red', 'blue', 'blue'], dtype='<U4')"
      ]
     },
     "execution_count": 6,
     "metadata": {},
     "output_type": "execute_result"
    }
   ],
   "source": [
    "y_named"
   ]
  },
  {
   "cell_type": "code",
   "execution_count": 8,
   "metadata": {
    "ExecuteTime": {
     "end_time": "2021-07-16T05:15:39.186237Z",
     "start_time": "2021-07-16T05:15:39.162169Z"
    }
   },
   "outputs": [
    {
     "name": "stdout",
     "output_type": "stream",
     "text": [
      "(25, 2)\n",
      "결정 함수 결과 형태 :  (25,)\n"
     ]
    }
   ],
   "source": [
    "print(X_test.shape)\n",
    "print('결정 함수 결과 형태 : ',gbrt.decision_function(X_test).shape)"
   ]
  },
  {
   "cell_type": "code",
   "execution_count": 9,
   "metadata": {
    "ExecuteTime": {
     "end_time": "2021-07-16T05:15:59.144992Z",
     "start_time": "2021-07-16T05:15:59.122997Z"
    }
   },
   "outputs": [
    {
     "data": {
      "text/plain": [
       "array([ 4.13592603, -1.70169917, -3.95106099, -3.62609552,  4.28986642,\n",
       "        3.66166081])"
      ]
     },
     "execution_count": 9,
     "metadata": {},
     "output_type": "execute_result"
    }
   ],
   "source": [
    "gbrt.decision_function(X_test)[:6]"
   ]
  },
  {
   "cell_type": "code",
   "execution_count": 10,
   "metadata": {
    "ExecuteTime": {
     "end_time": "2021-07-16T05:16:22.983039Z",
     "start_time": "2021-07-16T05:16:22.970153Z"
    }
   },
   "outputs": [
    {
     "name": "stdout",
     "output_type": "stream",
     "text": [
      "[ True False False False  True  True False  True  True  True False  True\n",
      "  True False  True False False False  True  True  True  True  True False\n",
      " False]\n",
      "['red' 'blue' 'blue' 'blue' 'red' 'red' 'blue' 'red' 'red' 'red' 'blue'\n",
      " 'red' 'red' 'blue' 'red' 'blue' 'blue' 'blue' 'red' 'red' 'red' 'red'\n",
      " 'red' 'blue' 'blue']\n"
     ]
    }
   ],
   "source": [
    "print(gbrt.decision_function(X_test) > 0)\n",
    "print(gbrt.predict(X_test))"
   ]
  },
  {
   "cell_type": "code",
   "execution_count": 11,
   "metadata": {
    "ExecuteTime": {
     "end_time": "2021-07-16T05:22:08.983478Z",
     "start_time": "2021-07-16T05:22:08.962355Z"
    }
   },
   "outputs": [
    {
     "data": {
      "text/plain": [
       "array([[1.57362639e-02, 9.84263736e-01],\n",
       "       [8.45756526e-01, 1.54243474e-01],\n",
       "       [9.81128693e-01, 1.88713075e-02],\n",
       "       [9.74070327e-01, 2.59296728e-02],\n",
       "       [1.35214212e-02, 9.86478579e-01],\n",
       "       [2.50463747e-02, 9.74953625e-01],\n",
       "       [9.99543275e-01, 4.56725221e-04],\n",
       "       [1.61426376e-02, 9.83857362e-01],\n",
       "       [2.48329911e-01, 7.51670089e-01],\n",
       "       [3.20518935e-02, 9.67948107e-01],\n",
       "       [9.98441637e-01, 1.55836338e-03],\n",
       "       [1.35214212e-02, 9.86478579e-01],\n",
       "       [1.98099245e-02, 9.80190075e-01],\n",
       "       [7.68580365e-01, 2.31419635e-01],\n",
       "       [2.50463747e-02, 9.74953625e-01],\n",
       "       [9.84817480e-01, 1.51825198e-02],\n",
       "       [7.73836215e-01, 2.26163785e-01],\n",
       "       [9.80463909e-01, 1.95360915e-02],\n",
       "       [1.73607896e-02, 9.82639210e-01],\n",
       "       [1.61426376e-02, 9.83857362e-01],\n",
       "       [1.61426376e-02, 9.83857362e-01],\n",
       "       [3.41393574e-01, 6.58606426e-01],\n",
       "       [6.30759509e-02, 9.36924049e-01],\n",
       "       [9.34424749e-01, 6.55752512e-02],\n",
       "       [8.66199569e-01, 1.33800431e-01]])"
      ]
     },
     "execution_count": 11,
     "metadata": {},
     "output_type": "execute_result"
    }
   ],
   "source": [
    "gbrt.predict_proba(X_test)"
   ]
  },
  {
   "cell_type": "markdown",
   "metadata": {},
   "source": [
    "## 다중 분류"
   ]
  },
  {
   "cell_type": "code",
   "execution_count": 14,
   "metadata": {
    "ExecuteTime": {
     "end_time": "2021-07-16T05:25:50.514245Z",
     "start_time": "2021-07-16T05:25:50.250221Z"
    }
   },
   "outputs": [
    {
     "data": {
      "text/plain": [
       "GradientBoostingClassifier(learning_rate=0.01, random_state=0)"
      ]
     },
     "execution_count": 14,
     "metadata": {},
     "output_type": "execute_result"
    }
   ],
   "source": [
    "iris = load_iris()\n",
    "\n",
    "X_train, X_test, y_train, y_test = train_test_split(iris.data,iris.target,random_state=0)\n",
    "\n",
    "gbrt = GradientBoostingClassifier(learning_rate=0.01, random_state=0)\n",
    "gbrt.fit(X_train, y_train)"
   ]
  },
  {
   "cell_type": "code",
   "execution_count": 15,
   "metadata": {
    "ExecuteTime": {
     "end_time": "2021-07-16T05:26:19.484227Z",
     "start_time": "2021-07-16T05:26:19.468228Z"
    }
   },
   "outputs": [
    {
     "name": "stdout",
     "output_type": "stream",
     "text": [
      "(38, 3)\n",
      "[[-1.94508029 -2.01517311  0.12762926]\n",
      " [-1.94762009  0.04959233 -1.86975822]\n",
      " [ 0.08367469 -2.01610565 -1.86744871]\n",
      " [-1.94508859 -2.01517311  0.12762926]\n",
      " [ 0.08367469 -2.01610565 -1.86744871]\n",
      " [-1.94508029 -2.01517311  0.12762926]]\n"
     ]
    }
   ],
   "source": [
    "print(gbrt.decision_function(X_test).shape)\n",
    "print(gbrt.decision_function(X_test)[:6, :])"
   ]
  },
  {
   "cell_type": "code",
   "execution_count": 16,
   "metadata": {
    "ExecuteTime": {
     "end_time": "2021-07-16T05:27:38.340366Z",
     "start_time": "2021-07-16T05:27:38.330389Z"
    }
   },
   "outputs": [
    {
     "name": "stdout",
     "output_type": "stream",
     "text": [
      "[2 1 0 2 0 2 0 1 1 1 2 1 1 1 1 0 1 1 0 0 2 1 0 0 2 0 0 1 1 0 2 1 0 2 2 1 0\n",
      " 2]\n",
      "[2 1 0 2 0 2 0 1 1 1 2 1 1 1 1 0 1 1 0 0 2 1 0 0 2 0 0 1 1 0 2 1 0 2 2 1 0\n",
      " 2]\n"
     ]
    }
   ],
   "source": [
    "print(np.argmax(gbrt.decision_function(X_test),axis=1))\n",
    "print(gbrt.predict(X_test))"
   ]
  },
  {
   "cell_type": "code",
   "execution_count": 19,
   "metadata": {
    "ExecuteTime": {
     "end_time": "2021-07-16T05:28:45.467669Z",
     "start_time": "2021-07-16T05:28:45.450688Z"
    }
   },
   "outputs": [
    {
     "name": "stdout",
     "output_type": "stream",
     "text": [
      "[[0.10122859 0.09437615 0.80439526]\n",
      " [0.10582615 0.77977861 0.11439524]\n",
      " [0.79076534 0.09685557 0.11237909]\n",
      " [0.10122783 0.09437623 0.80439594]\n",
      " [0.79076534 0.09685557 0.11237909]\n",
      " [0.10122859 0.09437615 0.80439526]]\n",
      "[1. 1. 1. 1. 1. 1.]\n"
     ]
    }
   ],
   "source": [
    "print(gbrt.predict_proba(X_test)[:6, :])\n",
    "print(gbrt.predict_proba(X_test)[:6].sum(axis=1))"
   ]
  },
  {
   "cell_type": "code",
   "execution_count": 21,
   "metadata": {
    "ExecuteTime": {
     "end_time": "2021-07-16T05:30:30.051184Z",
     "start_time": "2021-07-16T05:30:30.033769Z"
    }
   },
   "outputs": [
    {
     "name": "stdout",
     "output_type": "stream",
     "text": [
      "[2 1 0 2 0 2 0 1 1 1 2 1 1 1 1 0 1 1 0 0 2 1 0 0 2 0 0 1 1 0 2 1 0 2 2 1 0\n",
      " 2]\n",
      "[2 1 0 2 0 2 0 1 1 1 2 1 1 1 1 0 1 1 0 0 2 1 0 0 2 0 0 1 1 0 2 1 0 2 2 1 0\n",
      " 2]\n"
     ]
    }
   ],
   "source": [
    "print(np.argmax(gbrt.predict_proba(X_test),axis=1))\n",
    "print(gbrt.predict(X_test))"
   ]
  },
  {
   "cell_type": "code",
   "execution_count": null,
   "metadata": {},
   "outputs": [],
   "source": []
  }
 ],
 "metadata": {
  "kernelspec": {
   "display_name": "Python 3",
   "language": "python",
   "name": "python3"
  },
  "language_info": {
   "codemirror_mode": {
    "name": "ipython",
    "version": 3
   },
   "file_extension": ".py",
   "mimetype": "text/x-python",
   "name": "python",
   "nbconvert_exporter": "python",
   "pygments_lexer": "ipython3",
   "version": "3.8.5"
  }
 },
 "nbformat": 4,
 "nbformat_minor": 4
}
